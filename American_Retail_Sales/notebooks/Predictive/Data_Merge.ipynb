{
 "cells": [
  {
   "cell_type": "code",
   "execution_count": 1,
   "id": "5c78b863-7850-4642-8278-53a37edb077f",
   "metadata": {
    "tags": []
   },
   "outputs": [],
   "source": [
    "\n",
    "import pandas as pd\n",
    "import numpy as np"
   ]
  },
  {
   "cell_type": "code",
   "execution_count": 3,
   "id": "adefd347-4e09-416b-849a-b2b3304a8660",
   "metadata": {
    "tags": []
   },
   "outputs": [
    {
     "name": "stdout",
     "output_type": "stream",
     "text": [
      "/Users/tantri/Documents/My Research Material/UTSSpring23/AdvancedML/AT2/Retail_Analytics/American_Retail_Sales/notebooks\n"
     ]
    }
   ],
   "source": [
    "%cd .."
   ]
  },
  {
   "cell_type": "code",
   "execution_count": 4,
   "id": "426a16cc-5922-4ccc-ac10-634571e42060",
   "metadata": {
    "tags": []
   },
   "outputs": [],
   "source": [
    "# Read the CSV file\n",
    "sales_train = pd.read_csv('../data/raw/sales_train.csv', low_memory=False)\n",
    "sales_test= pd.read_csv('../data/raw/sales_test.csv', low_memory=False)\n",
    "items_weekly_sell_prices= pd.read_csv('../data/raw/items_weekly_sell_prices.csv', low_memory=False)\n",
    "calendar= pd.read_csv('../data/raw/calendar.csv', low_memory=False)\n",
    "calendar_events= pd.read_csv('../data/raw/calendar_events.csv', low_memory=False)"
   ]
  },
  {
   "cell_type": "code",
   "execution_count": 6,
   "id": "21f08ca1-1c67-4b34-87e1-49bf03abb55d",
   "metadata": {
    "tags": []
   },
   "outputs": [
    {
     "data": {
      "text/html": [
       "<div>\n",
       "<style scoped>\n",
       "    .dataframe tbody tr th:only-of-type {\n",
       "        vertical-align: middle;\n",
       "    }\n",
       "\n",
       "    .dataframe tbody tr th {\n",
       "        vertical-align: top;\n",
       "    }\n",
       "\n",
       "    .dataframe thead th {\n",
       "        text-align: right;\n",
       "    }\n",
       "</style>\n",
       "<table border=\"1\" class=\"dataframe\">\n",
       "  <thead>\n",
       "    <tr style=\"text-align: right;\">\n",
       "      <th></th>\n",
       "      <th>id</th>\n",
       "      <th>item_id</th>\n",
       "      <th>dept_id</th>\n",
       "      <th>cat_id</th>\n",
       "      <th>store_id</th>\n",
       "      <th>state_id</th>\n",
       "      <th>d_1</th>\n",
       "      <th>d_2</th>\n",
       "      <th>d_3</th>\n",
       "      <th>d_4</th>\n",
       "      <th>...</th>\n",
       "      <th>d_1532</th>\n",
       "      <th>d_1533</th>\n",
       "      <th>d_1534</th>\n",
       "      <th>d_1535</th>\n",
       "      <th>d_1536</th>\n",
       "      <th>d_1537</th>\n",
       "      <th>d_1538</th>\n",
       "      <th>d_1539</th>\n",
       "      <th>d_1540</th>\n",
       "      <th>d_1541</th>\n",
       "    </tr>\n",
       "  </thead>\n",
       "  <tbody>\n",
       "    <tr>\n",
       "      <th>0</th>\n",
       "      <td>HOBBIES_1_001_CA_1_evaluation</td>\n",
       "      <td>HOBBIES_1_001</td>\n",
       "      <td>HOBBIES_1</td>\n",
       "      <td>HOBBIES</td>\n",
       "      <td>CA_1</td>\n",
       "      <td>CA</td>\n",
       "      <td>0</td>\n",
       "      <td>0</td>\n",
       "      <td>0</td>\n",
       "      <td>0</td>\n",
       "      <td>...</td>\n",
       "      <td>1</td>\n",
       "      <td>1</td>\n",
       "      <td>1</td>\n",
       "      <td>0</td>\n",
       "      <td>1</td>\n",
       "      <td>0</td>\n",
       "      <td>1</td>\n",
       "      <td>0</td>\n",
       "      <td>0</td>\n",
       "      <td>1</td>\n",
       "    </tr>\n",
       "    <tr>\n",
       "      <th>1</th>\n",
       "      <td>HOBBIES_1_002_CA_1_evaluation</td>\n",
       "      <td>HOBBIES_1_002</td>\n",
       "      <td>HOBBIES_1</td>\n",
       "      <td>HOBBIES</td>\n",
       "      <td>CA_1</td>\n",
       "      <td>CA</td>\n",
       "      <td>0</td>\n",
       "      <td>0</td>\n",
       "      <td>0</td>\n",
       "      <td>0</td>\n",
       "      <td>...</td>\n",
       "      <td>0</td>\n",
       "      <td>0</td>\n",
       "      <td>0</td>\n",
       "      <td>0</td>\n",
       "      <td>0</td>\n",
       "      <td>0</td>\n",
       "      <td>0</td>\n",
       "      <td>0</td>\n",
       "      <td>1</td>\n",
       "      <td>0</td>\n",
       "    </tr>\n",
       "    <tr>\n",
       "      <th>2</th>\n",
       "      <td>HOBBIES_1_003_CA_1_evaluation</td>\n",
       "      <td>HOBBIES_1_003</td>\n",
       "      <td>HOBBIES_1</td>\n",
       "      <td>HOBBIES</td>\n",
       "      <td>CA_1</td>\n",
       "      <td>CA</td>\n",
       "      <td>0</td>\n",
       "      <td>0</td>\n",
       "      <td>0</td>\n",
       "      <td>0</td>\n",
       "      <td>...</td>\n",
       "      <td>0</td>\n",
       "      <td>0</td>\n",
       "      <td>1</td>\n",
       "      <td>0</td>\n",
       "      <td>0</td>\n",
       "      <td>0</td>\n",
       "      <td>0</td>\n",
       "      <td>0</td>\n",
       "      <td>0</td>\n",
       "      <td>0</td>\n",
       "    </tr>\n",
       "    <tr>\n",
       "      <th>3</th>\n",
       "      <td>HOBBIES_1_004_CA_1_evaluation</td>\n",
       "      <td>HOBBIES_1_004</td>\n",
       "      <td>HOBBIES_1</td>\n",
       "      <td>HOBBIES</td>\n",
       "      <td>CA_1</td>\n",
       "      <td>CA</td>\n",
       "      <td>0</td>\n",
       "      <td>0</td>\n",
       "      <td>0</td>\n",
       "      <td>0</td>\n",
       "      <td>...</td>\n",
       "      <td>8</td>\n",
       "      <td>2</td>\n",
       "      <td>0</td>\n",
       "      <td>8</td>\n",
       "      <td>2</td>\n",
       "      <td>3</td>\n",
       "      <td>1</td>\n",
       "      <td>1</td>\n",
       "      <td>3</td>\n",
       "      <td>8</td>\n",
       "    </tr>\n",
       "    <tr>\n",
       "      <th>4</th>\n",
       "      <td>HOBBIES_1_005_CA_1_evaluation</td>\n",
       "      <td>HOBBIES_1_005</td>\n",
       "      <td>HOBBIES_1</td>\n",
       "      <td>HOBBIES</td>\n",
       "      <td>CA_1</td>\n",
       "      <td>CA</td>\n",
       "      <td>0</td>\n",
       "      <td>0</td>\n",
       "      <td>0</td>\n",
       "      <td>0</td>\n",
       "      <td>...</td>\n",
       "      <td>2</td>\n",
       "      <td>0</td>\n",
       "      <td>1</td>\n",
       "      <td>3</td>\n",
       "      <td>2</td>\n",
       "      <td>1</td>\n",
       "      <td>1</td>\n",
       "      <td>2</td>\n",
       "      <td>2</td>\n",
       "      <td>3</td>\n",
       "    </tr>\n",
       "  </tbody>\n",
       "</table>\n",
       "<p>5 rows × 1547 columns</p>\n",
       "</div>"
      ],
      "text/plain": [
       "                              id        item_id    dept_id   cat_id store_id   \n",
       "0  HOBBIES_1_001_CA_1_evaluation  HOBBIES_1_001  HOBBIES_1  HOBBIES     CA_1  \\\n",
       "1  HOBBIES_1_002_CA_1_evaluation  HOBBIES_1_002  HOBBIES_1  HOBBIES     CA_1   \n",
       "2  HOBBIES_1_003_CA_1_evaluation  HOBBIES_1_003  HOBBIES_1  HOBBIES     CA_1   \n",
       "3  HOBBIES_1_004_CA_1_evaluation  HOBBIES_1_004  HOBBIES_1  HOBBIES     CA_1   \n",
       "4  HOBBIES_1_005_CA_1_evaluation  HOBBIES_1_005  HOBBIES_1  HOBBIES     CA_1   \n",
       "\n",
       "  state_id  d_1  d_2  d_3  d_4  ...  d_1532  d_1533  d_1534  d_1535  d_1536   \n",
       "0       CA    0    0    0    0  ...       1       1       1       0       1  \\\n",
       "1       CA    0    0    0    0  ...       0       0       0       0       0   \n",
       "2       CA    0    0    0    0  ...       0       0       1       0       0   \n",
       "3       CA    0    0    0    0  ...       8       2       0       8       2   \n",
       "4       CA    0    0    0    0  ...       2       0       1       3       2   \n",
       "\n",
       "   d_1537  d_1538  d_1539  d_1540  d_1541  \n",
       "0       0       1       0       0       1  \n",
       "1       0       0       0       1       0  \n",
       "2       0       0       0       0       0  \n",
       "3       3       1       1       3       8  \n",
       "4       1       1       2       2       3  \n",
       "\n",
       "[5 rows x 1547 columns]"
      ]
     },
     "execution_count": 6,
     "metadata": {},
     "output_type": "execute_result"
    }
   ],
   "source": [
    "sales_train.head()"
   ]
  },
  {
   "cell_type": "code",
   "execution_count": 7,
   "id": "8a01e9af-5e13-44b2-afeb-36cd83cf384c",
   "metadata": {
    "tags": []
   },
   "outputs": [
    {
     "data": {
      "text/html": [
       "<div>\n",
       "<style scoped>\n",
       "    .dataframe tbody tr th:only-of-type {\n",
       "        vertical-align: middle;\n",
       "    }\n",
       "\n",
       "    .dataframe tbody tr th {\n",
       "        vertical-align: top;\n",
       "    }\n",
       "\n",
       "    .dataframe thead th {\n",
       "        text-align: right;\n",
       "    }\n",
       "</style>\n",
       "<table border=\"1\" class=\"dataframe\">\n",
       "  <thead>\n",
       "    <tr style=\"text-align: right;\">\n",
       "      <th></th>\n",
       "      <th>store_id</th>\n",
       "      <th>item_id</th>\n",
       "      <th>wm_yr_wk</th>\n",
       "      <th>sell_price</th>\n",
       "    </tr>\n",
       "  </thead>\n",
       "  <tbody>\n",
       "    <tr>\n",
       "      <th>0</th>\n",
       "      <td>CA_1</td>\n",
       "      <td>HOBBIES_1_001</td>\n",
       "      <td>11325</td>\n",
       "      <td>9.58</td>\n",
       "    </tr>\n",
       "    <tr>\n",
       "      <th>1</th>\n",
       "      <td>CA_1</td>\n",
       "      <td>HOBBIES_1_001</td>\n",
       "      <td>11326</td>\n",
       "      <td>9.58</td>\n",
       "    </tr>\n",
       "    <tr>\n",
       "      <th>2</th>\n",
       "      <td>CA_1</td>\n",
       "      <td>HOBBIES_1_001</td>\n",
       "      <td>11327</td>\n",
       "      <td>8.26</td>\n",
       "    </tr>\n",
       "    <tr>\n",
       "      <th>3</th>\n",
       "      <td>CA_1</td>\n",
       "      <td>HOBBIES_1_001</td>\n",
       "      <td>11328</td>\n",
       "      <td>8.26</td>\n",
       "    </tr>\n",
       "    <tr>\n",
       "      <th>4</th>\n",
       "      <td>CA_1</td>\n",
       "      <td>HOBBIES_1_001</td>\n",
       "      <td>11329</td>\n",
       "      <td>8.26</td>\n",
       "    </tr>\n",
       "  </tbody>\n",
       "</table>\n",
       "</div>"
      ],
      "text/plain": [
       "  store_id        item_id  wm_yr_wk  sell_price\n",
       "0     CA_1  HOBBIES_1_001     11325        9.58\n",
       "1     CA_1  HOBBIES_1_001     11326        9.58\n",
       "2     CA_1  HOBBIES_1_001     11327        8.26\n",
       "3     CA_1  HOBBIES_1_001     11328        8.26\n",
       "4     CA_1  HOBBIES_1_001     11329        8.26"
      ]
     },
     "execution_count": 7,
     "metadata": {},
     "output_type": "execute_result"
    }
   ],
   "source": [
    "items_weekly_sell_prices.head()"
   ]
  },
  {
   "cell_type": "code",
   "execution_count": 8,
   "id": "3e207f5a-1a9a-40c0-a94c-0ce72c3ad3dd",
   "metadata": {
    "tags": []
   },
   "outputs": [
    {
     "name": "stdout",
     "output_type": "stream",
     "text": [
      "   wm_yr_wk store_id  item_id\n",
      "0     11101     CA_1     1204\n"
     ]
    }
   ],
   "source": [
    "import pandas as pd\n",
    "\n",
    "\n",
    "# Group by 'store_id' and 'wm_yr_wk' and calculate the number of unique 'item_id'\n",
    "result = items_weekly_sell_prices.groupby(['wm_yr_wk', 'store_id'])['item_id'].nunique().reset_index()\n",
    "\n",
    "# I can then select one row for each combination, for example, the first row\n",
    "one_row_per_combination = result.head(1)\n",
    "\n",
    "# Print the result\n",
    "print(one_row_per_combination)"
   ]
  },
  {
   "cell_type": "code",
   "execution_count": 9,
   "id": "82f857a3-3417-4677-b291-e99465aff150",
   "metadata": {
    "tags": []
   },
   "outputs": [
    {
     "data": {
      "text/html": [
       "<div>\n",
       "<style scoped>\n",
       "    .dataframe tbody tr th:only-of-type {\n",
       "        vertical-align: middle;\n",
       "    }\n",
       "\n",
       "    .dataframe tbody tr th {\n",
       "        vertical-align: top;\n",
       "    }\n",
       "\n",
       "    .dataframe thead th {\n",
       "        text-align: right;\n",
       "    }\n",
       "</style>\n",
       "<table border=\"1\" class=\"dataframe\">\n",
       "  <thead>\n",
       "    <tr style=\"text-align: right;\">\n",
       "      <th></th>\n",
       "      <th>date</th>\n",
       "      <th>wm_yr_wk</th>\n",
       "      <th>d</th>\n",
       "    </tr>\n",
       "  </thead>\n",
       "  <tbody>\n",
       "    <tr>\n",
       "      <th>0</th>\n",
       "      <td>2011-01-29</td>\n",
       "      <td>11101</td>\n",
       "      <td>d_1</td>\n",
       "    </tr>\n",
       "    <tr>\n",
       "      <th>1</th>\n",
       "      <td>2011-01-30</td>\n",
       "      <td>11101</td>\n",
       "      <td>d_2</td>\n",
       "    </tr>\n",
       "    <tr>\n",
       "      <th>2</th>\n",
       "      <td>2011-01-31</td>\n",
       "      <td>11101</td>\n",
       "      <td>d_3</td>\n",
       "    </tr>\n",
       "    <tr>\n",
       "      <th>3</th>\n",
       "      <td>2011-02-01</td>\n",
       "      <td>11101</td>\n",
       "      <td>d_4</td>\n",
       "    </tr>\n",
       "    <tr>\n",
       "      <th>4</th>\n",
       "      <td>2011-02-02</td>\n",
       "      <td>11101</td>\n",
       "      <td>d_5</td>\n",
       "    </tr>\n",
       "  </tbody>\n",
       "</table>\n",
       "</div>"
      ],
      "text/plain": [
       "         date  wm_yr_wk    d\n",
       "0  2011-01-29     11101  d_1\n",
       "1  2011-01-30     11101  d_2\n",
       "2  2011-01-31     11101  d_3\n",
       "3  2011-02-01     11101  d_4\n",
       "4  2011-02-02     11101  d_5"
      ]
     },
     "execution_count": 9,
     "metadata": {},
     "output_type": "execute_result"
    }
   ],
   "source": [
    "calendar.head()"
   ]
  },
  {
   "cell_type": "code",
   "execution_count": 10,
   "id": "5c351e0b-e2cb-45fb-b287-76767729cd94",
   "metadata": {
    "tags": []
   },
   "outputs": [
    {
     "name": "stdout",
     "output_type": "stream",
     "text": [
      "Number of unique weeks: 282\n"
     ]
    }
   ],
   "source": [
    "unique_weekid_count = calendar['wm_yr_wk'].nunique()\n",
    "print(\"Number of unique weeks:\", unique_weekid_count)\n"
   ]
  },
  {
   "cell_type": "code",
   "execution_count": 11,
   "id": "a224df86-3225-4349-ad76-ef437d541e5b",
   "metadata": {
    "tags": []
   },
   "outputs": [
    {
     "data": {
      "text/html": [
       "<div>\n",
       "<style scoped>\n",
       "    .dataframe tbody tr th:only-of-type {\n",
       "        vertical-align: middle;\n",
       "    }\n",
       "\n",
       "    .dataframe tbody tr th {\n",
       "        vertical-align: top;\n",
       "    }\n",
       "\n",
       "    .dataframe thead th {\n",
       "        text-align: right;\n",
       "    }\n",
       "</style>\n",
       "<table border=\"1\" class=\"dataframe\">\n",
       "  <thead>\n",
       "    <tr style=\"text-align: right;\">\n",
       "      <th></th>\n",
       "      <th>date</th>\n",
       "      <th>event_name</th>\n",
       "      <th>event_type</th>\n",
       "    </tr>\n",
       "  </thead>\n",
       "  <tbody>\n",
       "    <tr>\n",
       "      <th>0</th>\n",
       "      <td>2011-02-06</td>\n",
       "      <td>SuperBowl</td>\n",
       "      <td>Sporting</td>\n",
       "    </tr>\n",
       "    <tr>\n",
       "      <th>1</th>\n",
       "      <td>2011-02-14</td>\n",
       "      <td>ValentinesDay</td>\n",
       "      <td>Cultural</td>\n",
       "    </tr>\n",
       "    <tr>\n",
       "      <th>2</th>\n",
       "      <td>2011-02-21</td>\n",
       "      <td>PresidentsDay</td>\n",
       "      <td>National</td>\n",
       "    </tr>\n",
       "    <tr>\n",
       "      <th>3</th>\n",
       "      <td>2011-03-09</td>\n",
       "      <td>LentStart</td>\n",
       "      <td>Religious</td>\n",
       "    </tr>\n",
       "    <tr>\n",
       "      <th>4</th>\n",
       "      <td>2011-03-16</td>\n",
       "      <td>LentWeek2</td>\n",
       "      <td>Religious</td>\n",
       "    </tr>\n",
       "  </tbody>\n",
       "</table>\n",
       "</div>"
      ],
      "text/plain": [
       "         date     event_name event_type\n",
       "0  2011-02-06      SuperBowl   Sporting\n",
       "1  2011-02-14  ValentinesDay   Cultural\n",
       "2  2011-02-21  PresidentsDay   National\n",
       "3  2011-03-09      LentStart  Religious\n",
       "4  2011-03-16      LentWeek2  Religious"
      ]
     },
     "execution_count": 11,
     "metadata": {},
     "output_type": "execute_result"
    }
   ],
   "source": [
    "calendar_events.head()"
   ]
  },
  {
   "cell_type": "code",
   "execution_count": 12,
   "id": "0612794a-5f74-48ba-ad77-90106b645ac0",
   "metadata": {
    "tags": []
   },
   "outputs": [
    {
     "name": "stdout",
     "output_type": "stream",
     "text": [
      "           date      event_name event_type\n",
      "7    2011-04-24          Easter   Cultural\n",
      "8    2011-04-24  OrthodoxEaster  Religious\n",
      "69   2013-05-05   Cinco De Mayo   Cultural\n",
      "70   2013-05-05  OrthodoxEaster  Religious\n",
      "97   2014-04-20          Easter   Cultural\n",
      "98   2014-04-20  OrthodoxEaster  Religious\n",
      "104  2014-06-15    Father's day   Cultural\n",
      "105  2014-06-15    NBAFinalsEnd   Sporting\n",
      "165  2016-06-19    Father's day   Cultural\n",
      "166  2016-06-19    NBAFinalsEnd   Sporting\n"
     ]
    }
   ],
   "source": [
    "\n",
    "# Find duplicate dates\n",
    "duplicate_dates = calendar_events[calendar_events['date'].duplicated(keep=False)]\n",
    "\n",
    "# Display duplicate dates\n",
    "print(duplicate_dates)\n"
   ]
  },
  {
   "cell_type": "code",
   "execution_count": 13,
   "id": "2a0f1534-93e6-4fdd-85df-9b70189bbeee",
   "metadata": {
    "tags": []
   },
   "outputs": [],
   "source": [
    "# Step 1: Create a DataFrame with event counts for each date\n",
    "event_counts = calendar_events['date'].value_counts().reset_index()\n",
    "event_counts.columns = ['date', 'event_count']\n",
    "\n",
    "\n",
    "# Step 2: Merge the event count DataFrame with the original calendar_events DataFrame\n",
    "calendar_events = pd.merge(calendar_events, event_counts, on='date', how='left')\n",
    "\n",
    "# Step 3: Drop duplicates based on the 'date' column\n",
    "calendar_events = calendar_events.drop_duplicates('date', keep='first')\n"
   ]
  },
  {
   "cell_type": "code",
   "execution_count": 14,
   "id": "c127084a-f20c-4e3b-819e-8e15a6b901c9",
   "metadata": {
    "tags": []
   },
   "outputs": [],
   "source": [
    "# Create a dictionary to map 'd_' labels to dates\n",
    "date_mapping = dict(zip(calendar['d'], calendar['date']))\n",
    "\n",
    "# Rename the 'd_' columns in df_1 with their respective dates\n",
    "sales_train.rename(columns=date_mapping, inplace=True)\n",
    "\n",
    "# Now, the 'd_1', 'd_2', ... columns in df_1 will be renamed with their corresponding dates\n"
   ]
  },
  {
   "cell_type": "code",
   "execution_count": 15,
   "id": "48cbf748-18ce-406e-9e1d-ea57e55ef0b3",
   "metadata": {
    "tags": []
   },
   "outputs": [
    {
     "data": {
      "text/html": [
       "<div>\n",
       "<style scoped>\n",
       "    .dataframe tbody tr th:only-of-type {\n",
       "        vertical-align: middle;\n",
       "    }\n",
       "\n",
       "    .dataframe tbody tr th {\n",
       "        vertical-align: top;\n",
       "    }\n",
       "\n",
       "    .dataframe thead th {\n",
       "        text-align: right;\n",
       "    }\n",
       "</style>\n",
       "<table border=\"1\" class=\"dataframe\">\n",
       "  <thead>\n",
       "    <tr style=\"text-align: right;\">\n",
       "      <th></th>\n",
       "      <th>id</th>\n",
       "      <th>item_id</th>\n",
       "      <th>dept_id</th>\n",
       "      <th>cat_id</th>\n",
       "      <th>store_id</th>\n",
       "      <th>state_id</th>\n",
       "      <th>2011-01-29</th>\n",
       "      <th>2011-01-30</th>\n",
       "      <th>2011-01-31</th>\n",
       "      <th>2011-02-01</th>\n",
       "      <th>...</th>\n",
       "      <th>2015-04-09</th>\n",
       "      <th>2015-04-10</th>\n",
       "      <th>2015-04-11</th>\n",
       "      <th>2015-04-12</th>\n",
       "      <th>2015-04-13</th>\n",
       "      <th>2015-04-14</th>\n",
       "      <th>2015-04-15</th>\n",
       "      <th>2015-04-16</th>\n",
       "      <th>2015-04-17</th>\n",
       "      <th>2015-04-18</th>\n",
       "    </tr>\n",
       "  </thead>\n",
       "  <tbody>\n",
       "    <tr>\n",
       "      <th>0</th>\n",
       "      <td>HOBBIES_1_001_CA_1_evaluation</td>\n",
       "      <td>HOBBIES_1_001</td>\n",
       "      <td>HOBBIES_1</td>\n",
       "      <td>HOBBIES</td>\n",
       "      <td>CA_1</td>\n",
       "      <td>CA</td>\n",
       "      <td>0</td>\n",
       "      <td>0</td>\n",
       "      <td>0</td>\n",
       "      <td>0</td>\n",
       "      <td>...</td>\n",
       "      <td>1</td>\n",
       "      <td>1</td>\n",
       "      <td>1</td>\n",
       "      <td>0</td>\n",
       "      <td>1</td>\n",
       "      <td>0</td>\n",
       "      <td>1</td>\n",
       "      <td>0</td>\n",
       "      <td>0</td>\n",
       "      <td>1</td>\n",
       "    </tr>\n",
       "    <tr>\n",
       "      <th>1</th>\n",
       "      <td>HOBBIES_1_002_CA_1_evaluation</td>\n",
       "      <td>HOBBIES_1_002</td>\n",
       "      <td>HOBBIES_1</td>\n",
       "      <td>HOBBIES</td>\n",
       "      <td>CA_1</td>\n",
       "      <td>CA</td>\n",
       "      <td>0</td>\n",
       "      <td>0</td>\n",
       "      <td>0</td>\n",
       "      <td>0</td>\n",
       "      <td>...</td>\n",
       "      <td>0</td>\n",
       "      <td>0</td>\n",
       "      <td>0</td>\n",
       "      <td>0</td>\n",
       "      <td>0</td>\n",
       "      <td>0</td>\n",
       "      <td>0</td>\n",
       "      <td>0</td>\n",
       "      <td>1</td>\n",
       "      <td>0</td>\n",
       "    </tr>\n",
       "    <tr>\n",
       "      <th>2</th>\n",
       "      <td>HOBBIES_1_003_CA_1_evaluation</td>\n",
       "      <td>HOBBIES_1_003</td>\n",
       "      <td>HOBBIES_1</td>\n",
       "      <td>HOBBIES</td>\n",
       "      <td>CA_1</td>\n",
       "      <td>CA</td>\n",
       "      <td>0</td>\n",
       "      <td>0</td>\n",
       "      <td>0</td>\n",
       "      <td>0</td>\n",
       "      <td>...</td>\n",
       "      <td>0</td>\n",
       "      <td>0</td>\n",
       "      <td>1</td>\n",
       "      <td>0</td>\n",
       "      <td>0</td>\n",
       "      <td>0</td>\n",
       "      <td>0</td>\n",
       "      <td>0</td>\n",
       "      <td>0</td>\n",
       "      <td>0</td>\n",
       "    </tr>\n",
       "    <tr>\n",
       "      <th>3</th>\n",
       "      <td>HOBBIES_1_004_CA_1_evaluation</td>\n",
       "      <td>HOBBIES_1_004</td>\n",
       "      <td>HOBBIES_1</td>\n",
       "      <td>HOBBIES</td>\n",
       "      <td>CA_1</td>\n",
       "      <td>CA</td>\n",
       "      <td>0</td>\n",
       "      <td>0</td>\n",
       "      <td>0</td>\n",
       "      <td>0</td>\n",
       "      <td>...</td>\n",
       "      <td>8</td>\n",
       "      <td>2</td>\n",
       "      <td>0</td>\n",
       "      <td>8</td>\n",
       "      <td>2</td>\n",
       "      <td>3</td>\n",
       "      <td>1</td>\n",
       "      <td>1</td>\n",
       "      <td>3</td>\n",
       "      <td>8</td>\n",
       "    </tr>\n",
       "    <tr>\n",
       "      <th>4</th>\n",
       "      <td>HOBBIES_1_005_CA_1_evaluation</td>\n",
       "      <td>HOBBIES_1_005</td>\n",
       "      <td>HOBBIES_1</td>\n",
       "      <td>HOBBIES</td>\n",
       "      <td>CA_1</td>\n",
       "      <td>CA</td>\n",
       "      <td>0</td>\n",
       "      <td>0</td>\n",
       "      <td>0</td>\n",
       "      <td>0</td>\n",
       "      <td>...</td>\n",
       "      <td>2</td>\n",
       "      <td>0</td>\n",
       "      <td>1</td>\n",
       "      <td>3</td>\n",
       "      <td>2</td>\n",
       "      <td>1</td>\n",
       "      <td>1</td>\n",
       "      <td>2</td>\n",
       "      <td>2</td>\n",
       "      <td>3</td>\n",
       "    </tr>\n",
       "  </tbody>\n",
       "</table>\n",
       "<p>5 rows × 1547 columns</p>\n",
       "</div>"
      ],
      "text/plain": [
       "                              id        item_id    dept_id   cat_id store_id   \n",
       "0  HOBBIES_1_001_CA_1_evaluation  HOBBIES_1_001  HOBBIES_1  HOBBIES     CA_1  \\\n",
       "1  HOBBIES_1_002_CA_1_evaluation  HOBBIES_1_002  HOBBIES_1  HOBBIES     CA_1   \n",
       "2  HOBBIES_1_003_CA_1_evaluation  HOBBIES_1_003  HOBBIES_1  HOBBIES     CA_1   \n",
       "3  HOBBIES_1_004_CA_1_evaluation  HOBBIES_1_004  HOBBIES_1  HOBBIES     CA_1   \n",
       "4  HOBBIES_1_005_CA_1_evaluation  HOBBIES_1_005  HOBBIES_1  HOBBIES     CA_1   \n",
       "\n",
       "  state_id  2011-01-29  2011-01-30  2011-01-31  2011-02-01  ...  2015-04-09   \n",
       "0       CA           0           0           0           0  ...           1  \\\n",
       "1       CA           0           0           0           0  ...           0   \n",
       "2       CA           0           0           0           0  ...           0   \n",
       "3       CA           0           0           0           0  ...           8   \n",
       "4       CA           0           0           0           0  ...           2   \n",
       "\n",
       "   2015-04-10  2015-04-11  2015-04-12  2015-04-13  2015-04-14  2015-04-15   \n",
       "0           1           1           0           1           0           1  \\\n",
       "1           0           0           0           0           0           0   \n",
       "2           0           1           0           0           0           0   \n",
       "3           2           0           8           2           3           1   \n",
       "4           0           1           3           2           1           1   \n",
       "\n",
       "   2015-04-16  2015-04-17  2015-04-18  \n",
       "0           0           0           1  \n",
       "1           0           1           0  \n",
       "2           0           0           0  \n",
       "3           1           3           8  \n",
       "4           2           2           3  \n",
       "\n",
       "[5 rows x 1547 columns]"
      ]
     },
     "execution_count": 15,
     "metadata": {},
     "output_type": "execute_result"
    }
   ],
   "source": [
    "sales_train.head()"
   ]
  },
  {
   "cell_type": "code",
   "execution_count": 16,
   "id": "5474c12f-cfc4-4626-b99b-145c36d21f64",
   "metadata": {
    "tags": []
   },
   "outputs": [],
   "source": [
    "long_format_sales = pd.melt(sales_train, id_vars=['id', 'item_id', 'dept_id', 'cat_id', 'store_id', 'state_id'],\n",
    "                            var_name='date', value_name='units_sold')"
   ]
  },
  {
   "cell_type": "code",
   "execution_count": 17,
   "id": "f3b874f3-7201-4b7e-a9b4-d52c04a019b6",
   "metadata": {
    "tags": []
   },
   "outputs": [
    {
     "data": {
      "text/plain": [
       "id            46985090\n",
       "item_id       46985090\n",
       "dept_id       46985090\n",
       "cat_id        46985090\n",
       "store_id      46985090\n",
       "state_id      46985090\n",
       "date          46985090\n",
       "units_sold    46985090\n",
       "dtype: int64"
      ]
     },
     "execution_count": 17,
     "metadata": {},
     "output_type": "execute_result"
    }
   ],
   "source": [
    "long_format_sales.count()"
   ]
  },
  {
   "cell_type": "code",
   "execution_count": 18,
   "id": "8468680e-bfc7-4e5e-9577-4e332d9b2137",
   "metadata": {
    "tags": []
   },
   "outputs": [
    {
     "data": {
      "text/html": [
       "<div>\n",
       "<style scoped>\n",
       "    .dataframe tbody tr th:only-of-type {\n",
       "        vertical-align: middle;\n",
       "    }\n",
       "\n",
       "    .dataframe tbody tr th {\n",
       "        vertical-align: top;\n",
       "    }\n",
       "\n",
       "    .dataframe thead th {\n",
       "        text-align: right;\n",
       "    }\n",
       "</style>\n",
       "<table border=\"1\" class=\"dataframe\">\n",
       "  <thead>\n",
       "    <tr style=\"text-align: right;\">\n",
       "      <th></th>\n",
       "      <th>id</th>\n",
       "      <th>item_id</th>\n",
       "      <th>dept_id</th>\n",
       "      <th>cat_id</th>\n",
       "      <th>store_id</th>\n",
       "      <th>state_id</th>\n",
       "      <th>date</th>\n",
       "      <th>units_sold</th>\n",
       "    </tr>\n",
       "  </thead>\n",
       "  <tbody>\n",
       "    <tr>\n",
       "      <th>0</th>\n",
       "      <td>HOBBIES_1_001_CA_1_evaluation</td>\n",
       "      <td>HOBBIES_1_001</td>\n",
       "      <td>HOBBIES_1</td>\n",
       "      <td>HOBBIES</td>\n",
       "      <td>CA_1</td>\n",
       "      <td>CA</td>\n",
       "      <td>2011-01-29</td>\n",
       "      <td>0</td>\n",
       "    </tr>\n",
       "    <tr>\n",
       "      <th>1</th>\n",
       "      <td>HOBBIES_1_002_CA_1_evaluation</td>\n",
       "      <td>HOBBIES_1_002</td>\n",
       "      <td>HOBBIES_1</td>\n",
       "      <td>HOBBIES</td>\n",
       "      <td>CA_1</td>\n",
       "      <td>CA</td>\n",
       "      <td>2011-01-29</td>\n",
       "      <td>0</td>\n",
       "    </tr>\n",
       "    <tr>\n",
       "      <th>2</th>\n",
       "      <td>HOBBIES_1_003_CA_1_evaluation</td>\n",
       "      <td>HOBBIES_1_003</td>\n",
       "      <td>HOBBIES_1</td>\n",
       "      <td>HOBBIES</td>\n",
       "      <td>CA_1</td>\n",
       "      <td>CA</td>\n",
       "      <td>2011-01-29</td>\n",
       "      <td>0</td>\n",
       "    </tr>\n",
       "    <tr>\n",
       "      <th>3</th>\n",
       "      <td>HOBBIES_1_004_CA_1_evaluation</td>\n",
       "      <td>HOBBIES_1_004</td>\n",
       "      <td>HOBBIES_1</td>\n",
       "      <td>HOBBIES</td>\n",
       "      <td>CA_1</td>\n",
       "      <td>CA</td>\n",
       "      <td>2011-01-29</td>\n",
       "      <td>0</td>\n",
       "    </tr>\n",
       "    <tr>\n",
       "      <th>4</th>\n",
       "      <td>HOBBIES_1_005_CA_1_evaluation</td>\n",
       "      <td>HOBBIES_1_005</td>\n",
       "      <td>HOBBIES_1</td>\n",
       "      <td>HOBBIES</td>\n",
       "      <td>CA_1</td>\n",
       "      <td>CA</td>\n",
       "      <td>2011-01-29</td>\n",
       "      <td>0</td>\n",
       "    </tr>\n",
       "  </tbody>\n",
       "</table>\n",
       "</div>"
      ],
      "text/plain": [
       "                              id        item_id    dept_id   cat_id store_id   \n",
       "0  HOBBIES_1_001_CA_1_evaluation  HOBBIES_1_001  HOBBIES_1  HOBBIES     CA_1  \\\n",
       "1  HOBBIES_1_002_CA_1_evaluation  HOBBIES_1_002  HOBBIES_1  HOBBIES     CA_1   \n",
       "2  HOBBIES_1_003_CA_1_evaluation  HOBBIES_1_003  HOBBIES_1  HOBBIES     CA_1   \n",
       "3  HOBBIES_1_004_CA_1_evaluation  HOBBIES_1_004  HOBBIES_1  HOBBIES     CA_1   \n",
       "4  HOBBIES_1_005_CA_1_evaluation  HOBBIES_1_005  HOBBIES_1  HOBBIES     CA_1   \n",
       "\n",
       "  state_id        date  units_sold  \n",
       "0       CA  2011-01-29           0  \n",
       "1       CA  2011-01-29           0  \n",
       "2       CA  2011-01-29           0  \n",
       "3       CA  2011-01-29           0  \n",
       "4       CA  2011-01-29           0  "
      ]
     },
     "execution_count": 18,
     "metadata": {},
     "output_type": "execute_result"
    }
   ],
   "source": [
    "long_format_sales.head()"
   ]
  },
  {
   "cell_type": "code",
   "execution_count": 19,
   "id": "011b7273-5b52-4b2d-8bf4-62c43e9cb5e1",
   "metadata": {
    "tags": []
   },
   "outputs": [],
   "source": [
    "import pandas as pd\n",
    "\n",
    "# Create a DataFrame to map dates to weeks\n",
    "date_to_week_mapping = calendar[['date', 'wm_yr_wk']]\n",
    "\n",
    "# Merge the long-format sales data with the date-to-week mapping\n",
    "combined_data = pd.merge(long_format_sales, date_to_week_mapping, on='date')\n",
    "\n",
    "\n",
    "\n",
    "# Now, combined_data contains sales data for each product on each date\n"
   ]
  },
  {
   "cell_type": "code",
   "execution_count": 22,
   "id": "6d336872-b70b-404e-970a-2fd0b630e165",
   "metadata": {
    "tags": []
   },
   "outputs": [
    {
     "data": {
      "text/plain": [
       "id            46985090\n",
       "item_id       46985090\n",
       "dept_id       46985090\n",
       "cat_id        46985090\n",
       "store_id      46985090\n",
       "state_id      46985090\n",
       "date          46985090\n",
       "units_sold    46985090\n",
       "wm_yr_wk      46985090\n",
       "sell_price    34720691\n",
       "sales         34720691\n",
       "dtype: int64"
      ]
     },
     "execution_count": 22,
     "metadata": {},
     "output_type": "execute_result"
    }
   ],
   "source": [
    "combined_data.count()"
   ]
  },
  {
   "cell_type": "code",
   "execution_count": 21,
   "id": "dff35b83-74c4-4333-ab8b-a0afbea0b572",
   "metadata": {
    "tags": []
   },
   "outputs": [],
   "source": [
    "import pandas as pd\n",
    "\n",
    "# Perform a left join to merge the dataframes\n",
    "combined_data = pd.merge(combined_data, items_weekly_sell_prices, on=['item_id', 'wm_yr_wk', 'store_id'], how='left')\n",
    "\n",
    "# Calculate sales by multiplying sell_price with units_sold\n",
    "combined_data['sales'] = combined_data['sell_price'] * combined_data['units_sold']\n"
   ]
  },
  {
   "cell_type": "code",
   "execution_count": 23,
   "id": "d024475e-e972-45fc-b71a-bd80cc40e88f",
   "metadata": {
    "tags": []
   },
   "outputs": [
    {
     "name": "stdout",
     "output_type": "stream",
     "text": [
      "Number of unique items: 3049\n",
      "Number of unique stores: 10\n"
     ]
    }
   ],
   "source": [
    "ItemCount = combined_data['item_id'].nunique()\n",
    "print(\"Number of unique items:\", ItemCount)\n",
    "\n",
    "\n",
    "StoreCount = combined_data['store_id'].nunique()\n",
    "print(\"Number of unique stores:\", StoreCount)\n"
   ]
  },
  {
   "cell_type": "code",
   "execution_count": 24,
   "id": "3c566ba4-6f3b-41a7-828e-8b10e4a2498f",
   "metadata": {
    "tags": []
   },
   "outputs": [],
   "source": [
    "# Sort the DataFrame by \"store_id,\" \"date,\" and \"item_id\"\n",
    "combined_data = combined_data.sort_values(by=['store_id', 'item_id'])\n",
    "\n",
    "# Reset the index if needed\n",
    "combined_data.reset_index(drop=True, inplace=True)\n",
    "\n"
   ]
  },
  {
   "cell_type": "code",
   "execution_count": 28,
   "id": "187af567-9a43-4bd2-bddc-70a00ab81334",
   "metadata": {
    "tags": []
   },
   "outputs": [],
   "source": [
    "# Import the pandas library\n",
    "import pandas as pd\n",
    "\n",
    "# Forward fill missing values in the \"sell_price\" \n",
    "combined_data['sell_price'].fillna(method='ffill', inplace=True)\n"
   ]
  },
  {
   "cell_type": "code",
   "execution_count": 30,
   "id": "bda34df0-a8cf-4802-b2df-9fe4a963858c",
   "metadata": {
    "tags": []
   },
   "outputs": [],
   "source": [
    "combined_data['sales'] = combined_data['sell_price'] * combined_data['units_sold']\n"
   ]
  },
  {
   "cell_type": "code",
   "execution_count": 31,
   "id": "fe1d5296-f329-43ff-b0cd-c63f173f3b03",
   "metadata": {
    "tags": []
   },
   "outputs": [
    {
     "data": {
      "text/plain": [
       "id            46985090\n",
       "item_id       46985090\n",
       "dept_id       46985090\n",
       "cat_id        46985090\n",
       "store_id      46985090\n",
       "state_id      46985090\n",
       "date          46985090\n",
       "units_sold    46985090\n",
       "wm_yr_wk      46985090\n",
       "sell_price    46985090\n",
       "sales         46985090\n",
       "dtype: int64"
      ]
     },
     "execution_count": 31,
     "metadata": {},
     "output_type": "execute_result"
    }
   ],
   "source": [
    "combined_data.count()"
   ]
  },
  {
   "cell_type": "code",
   "execution_count": null,
   "id": "9520664b-8a71-435a-86e3-7f250a706813",
   "metadata": {},
   "outputs": [],
   "source": [
    "save_path = '../data/processed/final_merged_events.csv'\n",
    "\n",
    "# Save the DataFrame as a CSV file\n",
    "combined_data.to_csv(save_path, index=False) "
   ]
  },
  {
   "cell_type": "code",
   "execution_count": 32,
   "id": "b6dbcc8b-5efa-4f6f-8bd5-6c5568fa2e4d",
   "metadata": {
    "tags": []
   },
   "outputs": [],
   "source": [
    "combined_data_with_events = pd.merge(combined_data, calendar_events, on='date', how='left')\n"
   ]
  },
  {
   "cell_type": "code",
   "execution_count": 34,
   "id": "e258ecad-e004-49f3-9963-d0cc9cd218dc",
   "metadata": {
    "tags": []
   },
   "outputs": [],
   "source": [
    "combined_data_with_events.drop('event_type', axis=1, inplace=True)\n",
    "combined_data_with_events['event_count'].fillna(0, inplace=True)\n",
    "combined_data_with_events['event_name'].fillna('NoEvent', inplace=True)\n",
    "\n"
   ]
  },
  {
   "cell_type": "code",
   "execution_count": 35,
   "id": "186be328-5b14-40b1-8296-90b3812cd7dc",
   "metadata": {
    "tags": []
   },
   "outputs": [
    {
     "data": {
      "text/plain": [
       "id             46985090\n",
       "item_id        46985090\n",
       "dept_id        46985090\n",
       "cat_id         46985090\n",
       "store_id       46985090\n",
       "state_id       46985090\n",
       "date           46985090\n",
       "units_sold     46985090\n",
       "wm_yr_wk       46985090\n",
       "sell_price     46985090\n",
       "sales          46985090\n",
       "event_name     46985090\n",
       "event_count    46985090\n",
       "dtype: int64"
      ]
     },
     "execution_count": 35,
     "metadata": {},
     "output_type": "execute_result"
    }
   ],
   "source": [
    "combined_data_with_events.count()"
   ]
  },
  {
   "cell_type": "code",
   "execution_count": null,
   "id": "0fb6bff3-fd06-4698-821c-73f509d727fb",
   "metadata": {},
   "outputs": [],
   "source": [
    "save_path = '../data/processed/final_merged_events.csv'\n",
    "\n",
    "# Save the DataFrame as a CSV file\n",
    "combined_data_with_events.to_csv(save_path, index=False) "
   ]
  },
  {
   "cell_type": "code",
   "execution_count": null,
   "id": "28d8c89d-de1b-43b5-81cb-18fddc89543c",
   "metadata": {},
   "outputs": [],
   "source": [
    "#Test data preparation"
   ]
  },
  {
   "cell_type": "code",
   "execution_count": null,
   "id": "27f524ea-ee56-467d-a6f4-28673e5d7d6f",
   "metadata": {},
   "outputs": [],
   "source": [
    "import pandas as pd\n",
    "\n",
    "# Assuming df_1 and df have the same number of rows\n",
    "merged_df = pd.concat([sales_train, sales_test], axis=1)\n",
    "\n",
    "\n"
   ]
  },
  {
   "cell_type": "code",
   "execution_count": null,
   "id": "314c647d-9662-4924-8112-94b0a125ad19",
   "metadata": {},
   "outputs": [],
   "source": [
    "# Generate a list of date columns to drop\n",
    "date_columns_to_drop = [f'd_{i}' for i in range(1, 1542)]  # Creates a list from 'd_1' to 'd_1541'\n",
    "\n",
    "# Drop the date columns\n",
    "merged_df.drop(columns=date_columns_to_drop, inplace=True)\n"
   ]
  },
  {
   "cell_type": "code",
   "execution_count": null,
   "id": "9782e44d-eb45-44ff-9ea5-ef2b3b93208a",
   "metadata": {},
   "outputs": [],
   "source": [
    "# Assuming df_1 contains your sales data and df_3 contains the date mapping\n",
    "# Create a dictionary to map 'd_' labels to dates\n",
    "date_mapping = dict(zip(calendar['d'], calendar['date']))\n",
    "\n",
    "# Rename the 'd_' columns in df_1 with their respective dates\n",
    "merged_df.rename(columns=date_mapping, inplace=True)\n",
    "\n",
    "# Now, the 'd_1', 'd_2', ... columns in df_1 will be renamed with their corresponding dates\n"
   ]
  },
  {
   "cell_type": "code",
   "execution_count": null,
   "id": "9cb41f24-aa61-4ceb-b6ac-f56d5cbdba7b",
   "metadata": {},
   "outputs": [],
   "source": [
    "long_format_sales = pd.melt(merged_df, id_vars=['id', 'item_id', 'dept_id', 'cat_id', 'store_id', 'state_id'],\n",
    "                            var_name='date', value_name='units_sold')"
   ]
  },
  {
   "cell_type": "code",
   "execution_count": null,
   "id": "fba15720-a72f-4489-aa6b-27a6edc94ead",
   "metadata": {},
   "outputs": [],
   "source": [
    "import pandas as pd\n",
    "\n",
    "# Create a DataFrame to map dates to weeks\n",
    "date_to_week_mapping = calendar[['date', 'wm_yr_wk']]\n",
    "\n",
    "# Merge the long-format sales data with the date-to-week mapping\n",
    "test_combined_data = pd.merge(long_format_sales, date_to_week_mapping, on='date')\n",
    "\n",
    "\n",
    "\n",
    "# Now, combined_data contains sales data for each product on each date\n"
   ]
  },
  {
   "cell_type": "code",
   "execution_count": null,
   "id": "6b86c445-1bee-49c1-9772-61505da99c99",
   "metadata": {},
   "outputs": [],
   "source": [
    "import pandas as pd\n",
    "\n",
    "# Perform a left join to merge the dataframes\n",
    "test_combined_data = pd.merge(test_combined_data, items_weekly_sell_prices, on=['item_id', 'wm_yr_wk', 'store_id'], how='left')\n",
    "\n",
    "# Calculate sales by multiplying sell_price with units_sold\n",
    "test_combined_data['sales'] = test_combined_data['sell_price'] * test_combined_data['units_sold']\n"
   ]
  },
  {
   "cell_type": "code",
   "execution_count": null,
   "id": "c48c2877-816a-48b9-930d-ddbff74d76e1",
   "metadata": {},
   "outputs": [],
   "source": [
    "# Sort the DataFrame by \"store_id,\" \"date,\" and \"item_id\"\n",
    "test_combined_data = test_combined_data.sort_values(by=['store_id', 'item_id'])\n",
    "\n",
    "# Reset the index if needed\n",
    "test_combined_data.reset_index(drop=True, inplace=True)"
   ]
  },
  {
   "cell_type": "code",
   "execution_count": null,
   "id": "427d7b08-e948-4736-b1b4-7f694d649fdd",
   "metadata": {},
   "outputs": [],
   "source": [
    "test_combined_data = pd.merge(test_combined_data, calendar_events, on='date', how='left')\n"
   ]
  },
  {
   "cell_type": "code",
   "execution_count": null,
   "id": "de46fd4e-c06c-4562-8866-f3fed61cddbf",
   "metadata": {},
   "outputs": [],
   "source": [
    "test_combined_data.drop('event_type', axis=1, inplace=True)\n",
    "test_combined_data['event_count'].fillna(0, inplace=True)\n",
    "test_combined_data['event_name'].fillna('NoEvent', inplace=True)\n"
   ]
  },
  {
   "cell_type": "code",
   "execution_count": null,
   "id": "c38f2837-d7f2-4df4-b04d-db7a8d86f3d4",
   "metadata": {},
   "outputs": [],
   "source": [
    "save_path = '../data/processed/test_final_merged.csv'\n",
    "\n",
    "# Save the DataFrame as a CSV file\n",
    "test_combined_data.to_csv(save_path, index=False) "
   ]
  }
 ],
 "metadata": {
  "kernelspec": {
   "display_name": "Python 3 (ipykernel)",
   "language": "python",
   "name": "python3"
  },
  "language_info": {
   "codemirror_mode": {
    "name": "ipython",
    "version": 3
   },
   "file_extension": ".py",
   "mimetype": "text/x-python",
   "name": "python",
   "nbconvert_exporter": "python",
   "pygments_lexer": "ipython3",
   "version": "3.10.6"
  }
 },
 "nbformat": 4,
 "nbformat_minor": 5
}
